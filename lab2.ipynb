{
 "cells": [
  {
   "cell_type": "code",
   "execution_count": 123,
   "metadata": {},
   "outputs": [],
   "source": [
    "# Import libraries\n",
    "import numpy as np\n",
    "import pandas as pd\n",
    "import matplotlib.pyplot as plt\n",
    "import seaborn as sns\n",
    "import lightgbm as lgb\n",
    "\n",
    "from xgboost import XGBRegressor\n",
    "from catboost import CatBoostRegressor\n",
    "from sklearn.model_selection import train_test_split, cross_val_score\n",
    "from sklearn.metrics import mean_squared_error, mean_squared_log_error\n",
    "from sklearn.ensemble import RandomForestRegressor, StackingRegressor\n",
    "from sklearn.preprocessing import StandardScaler, MinMaxScaler\n",
    "from sklearn.linear_model import Ridge\n",
    "from sklearn.feature_selection import mutual_info_regression\n"
   ]
  },
  {
   "cell_type": "code",
   "execution_count": 124,
   "metadata": {},
   "outputs": [],
   "source": [
    "import warnings\n",
    "warnings.filterwarnings('ignore')"
   ]
  },
  {
   "cell_type": "code",
   "execution_count": 127,
   "metadata": {},
   "outputs": [],
   "source": [
    "# Path to data and results\n",
    "data_path = 'data_set/'\n",
    "results_path = 'result/'"
   ]
  },
  {
   "cell_type": "code",
   "execution_count": 128,
   "metadata": {},
   "outputs": [],
   "source": [
    "# Load data\n",
    "train_data = pd.read_csv(data_path + 'train.csv')\n",
    "test_data = pd.read_csv(data_path + 'test.csv')"
   ]
  },
  {
   "cell_type": "code",
   "execution_count": 129,
   "metadata": {},
   "outputs": [],
   "source": [
    "def create_csv(y_test_pred_log, name):\n",
    "    y_test_pred = np.expm1(y_test_pred_log)\n",
    "    submission = pd.DataFrame({'id': test_data['id'], 'cost': y_test_pred})\n",
    "    submission.to_csv(results_path + name + '.csv', index=False)"
   ]
  },
  {
   "cell_type": "code",
   "execution_count": 130,
   "metadata": {},
   "outputs": [],
   "source": [
    "def get_rmsle_score(y_pred_log, y_val_log):\n",
    "    y_pred = np.expm1(y_pred_log)\n",
    "    y_val = np.expm1(y_val_log)\n",
    "    print(mean_squared_log_error(y_val, y_pred, squared=False))"
   ]
  },
  {
   "cell_type": "code",
   "execution_count": 131,
   "metadata": {},
   "outputs": [
    {
     "data": {
      "text/html": [
       "<div>\n",
       "<style scoped>\n",
       "    .dataframe tbody tr th:only-of-type {\n",
       "        vertical-align: middle;\n",
       "    }\n",
       "\n",
       "    .dataframe tbody tr th {\n",
       "        vertical-align: top;\n",
       "    }\n",
       "\n",
       "    .dataframe thead th {\n",
       "        text-align: right;\n",
       "    }\n",
       "</style>\n",
       "<table border=\"1\" class=\"dataframe\">\n",
       "  <thead>\n",
       "    <tr style=\"text-align: right;\">\n",
       "      <th></th>\n",
       "      <th>id</th>\n",
       "      <th>store_sales(in millions)</th>\n",
       "      <th>unit_sales(in millions)</th>\n",
       "      <th>total_children</th>\n",
       "      <th>num_children_at_home</th>\n",
       "      <th>avg_cars_at home(approx).1</th>\n",
       "      <th>gross_weight</th>\n",
       "      <th>recyclable_package</th>\n",
       "      <th>low_fat</th>\n",
       "      <th>units_per_case</th>\n",
       "      <th>store_sqft</th>\n",
       "      <th>coffee_bar</th>\n",
       "      <th>video_store</th>\n",
       "      <th>salad_bar</th>\n",
       "      <th>prepared_food</th>\n",
       "      <th>florist</th>\n",
       "      <th>cost</th>\n",
       "    </tr>\n",
       "  </thead>\n",
       "  <tbody>\n",
       "    <tr>\n",
       "      <th>count</th>\n",
       "      <td>360336.000000</td>\n",
       "      <td>360336.000000</td>\n",
       "      <td>360336.000000</td>\n",
       "      <td>360336.000000</td>\n",
       "      <td>360336.000000</td>\n",
       "      <td>360336.000000</td>\n",
       "      <td>360336.000000</td>\n",
       "      <td>360336.000000</td>\n",
       "      <td>360336.000000</td>\n",
       "      <td>360336.000000</td>\n",
       "      <td>360336.000000</td>\n",
       "      <td>360336.000000</td>\n",
       "      <td>360336.000000</td>\n",
       "      <td>360336.000000</td>\n",
       "      <td>360336.000000</td>\n",
       "      <td>360336.000000</td>\n",
       "      <td>360336.000000</td>\n",
       "    </tr>\n",
       "    <tr>\n",
       "      <th>mean</th>\n",
       "      <td>180167.500000</td>\n",
       "      <td>6.337376</td>\n",
       "      <td>3.043881</td>\n",
       "      <td>2.456482</td>\n",
       "      <td>0.689390</td>\n",
       "      <td>2.203813</td>\n",
       "      <td>13.822071</td>\n",
       "      <td>0.568086</td>\n",
       "      <td>0.327797</td>\n",
       "      <td>18.972706</td>\n",
       "      <td>28180.333442</td>\n",
       "      <td>0.564839</td>\n",
       "      <td>0.277394</td>\n",
       "      <td>0.504807</td>\n",
       "      <td>0.504832</td>\n",
       "      <td>0.503191</td>\n",
       "      <td>99.614729</td>\n",
       "    </tr>\n",
       "    <tr>\n",
       "      <th>std</th>\n",
       "      <td>104020.187637</td>\n",
       "      <td>3.307980</td>\n",
       "      <td>0.784676</td>\n",
       "      <td>1.488992</td>\n",
       "      <td>1.214732</td>\n",
       "      <td>1.084293</td>\n",
       "      <td>4.614792</td>\n",
       "      <td>0.495343</td>\n",
       "      <td>0.469411</td>\n",
       "      <td>10.212912</td>\n",
       "      <td>5968.874074</td>\n",
       "      <td>0.495779</td>\n",
       "      <td>0.447713</td>\n",
       "      <td>0.499978</td>\n",
       "      <td>0.499977</td>\n",
       "      <td>0.499991</td>\n",
       "      <td>29.939435</td>\n",
       "    </tr>\n",
       "    <tr>\n",
       "      <th>min</th>\n",
       "      <td>0.000000</td>\n",
       "      <td>0.510000</td>\n",
       "      <td>1.000000</td>\n",
       "      <td>0.000000</td>\n",
       "      <td>0.000000</td>\n",
       "      <td>0.000000</td>\n",
       "      <td>6.000000</td>\n",
       "      <td>0.000000</td>\n",
       "      <td>0.000000</td>\n",
       "      <td>1.000000</td>\n",
       "      <td>20319.000000</td>\n",
       "      <td>0.000000</td>\n",
       "      <td>0.000000</td>\n",
       "      <td>0.000000</td>\n",
       "      <td>0.000000</td>\n",
       "      <td>0.000000</td>\n",
       "      <td>50.790000</td>\n",
       "    </tr>\n",
       "    <tr>\n",
       "      <th>25%</th>\n",
       "      <td>90083.750000</td>\n",
       "      <td>3.720000</td>\n",
       "      <td>3.000000</td>\n",
       "      <td>1.000000</td>\n",
       "      <td>0.000000</td>\n",
       "      <td>1.000000</td>\n",
       "      <td>9.710000</td>\n",
       "      <td>0.000000</td>\n",
       "      <td>0.000000</td>\n",
       "      <td>10.000000</td>\n",
       "      <td>23593.000000</td>\n",
       "      <td>0.000000</td>\n",
       "      <td>0.000000</td>\n",
       "      <td>0.000000</td>\n",
       "      <td>0.000000</td>\n",
       "      <td>0.000000</td>\n",
       "      <td>70.320000</td>\n",
       "    </tr>\n",
       "    <tr>\n",
       "      <th>50%</th>\n",
       "      <td>180167.500000</td>\n",
       "      <td>5.780000</td>\n",
       "      <td>3.000000</td>\n",
       "      <td>2.000000</td>\n",
       "      <td>0.000000</td>\n",
       "      <td>2.000000</td>\n",
       "      <td>13.600000</td>\n",
       "      <td>1.000000</td>\n",
       "      <td>0.000000</td>\n",
       "      <td>20.000000</td>\n",
       "      <td>27694.000000</td>\n",
       "      <td>1.000000</td>\n",
       "      <td>0.000000</td>\n",
       "      <td>1.000000</td>\n",
       "      <td>1.000000</td>\n",
       "      <td>1.000000</td>\n",
       "      <td>98.810000</td>\n",
       "    </tr>\n",
       "    <tr>\n",
       "      <th>75%</th>\n",
       "      <td>270251.250000</td>\n",
       "      <td>8.400000</td>\n",
       "      <td>4.000000</td>\n",
       "      <td>4.000000</td>\n",
       "      <td>1.000000</td>\n",
       "      <td>3.000000</td>\n",
       "      <td>17.700000</td>\n",
       "      <td>1.000000</td>\n",
       "      <td>1.000000</td>\n",
       "      <td>28.000000</td>\n",
       "      <td>33858.000000</td>\n",
       "      <td>1.000000</td>\n",
       "      <td>1.000000</td>\n",
       "      <td>1.000000</td>\n",
       "      <td>1.000000</td>\n",
       "      <td>1.000000</td>\n",
       "      <td>126.620000</td>\n",
       "    </tr>\n",
       "    <tr>\n",
       "      <th>max</th>\n",
       "      <td>360335.000000</td>\n",
       "      <td>22.920000</td>\n",
       "      <td>6.000000</td>\n",
       "      <td>5.000000</td>\n",
       "      <td>5.000000</td>\n",
       "      <td>4.000000</td>\n",
       "      <td>21.900000</td>\n",
       "      <td>1.000000</td>\n",
       "      <td>1.000000</td>\n",
       "      <td>36.000000</td>\n",
       "      <td>39696.000000</td>\n",
       "      <td>1.000000</td>\n",
       "      <td>1.000000</td>\n",
       "      <td>1.000000</td>\n",
       "      <td>1.000000</td>\n",
       "      <td>1.000000</td>\n",
       "      <td>149.750000</td>\n",
       "    </tr>\n",
       "  </tbody>\n",
       "</table>\n",
       "</div>"
      ],
      "text/plain": [
       "                  id  store_sales(in millions)  unit_sales(in millions)  \\\n",
       "count  360336.000000             360336.000000            360336.000000   \n",
       "mean   180167.500000                  6.337376                 3.043881   \n",
       "std    104020.187637                  3.307980                 0.784676   \n",
       "min         0.000000                  0.510000                 1.000000   \n",
       "25%     90083.750000                  3.720000                 3.000000   \n",
       "50%    180167.500000                  5.780000                 3.000000   \n",
       "75%    270251.250000                  8.400000                 4.000000   \n",
       "max    360335.000000                 22.920000                 6.000000   \n",
       "\n",
       "       total_children  num_children_at_home  avg_cars_at home(approx).1  \\\n",
       "count   360336.000000         360336.000000               360336.000000   \n",
       "mean         2.456482              0.689390                    2.203813   \n",
       "std          1.488992              1.214732                    1.084293   \n",
       "min          0.000000              0.000000                    0.000000   \n",
       "25%          1.000000              0.000000                    1.000000   \n",
       "50%          2.000000              0.000000                    2.000000   \n",
       "75%          4.000000              1.000000                    3.000000   \n",
       "max          5.000000              5.000000                    4.000000   \n",
       "\n",
       "        gross_weight  recyclable_package        low_fat  units_per_case  \\\n",
       "count  360336.000000       360336.000000  360336.000000   360336.000000   \n",
       "mean       13.822071            0.568086       0.327797       18.972706   \n",
       "std         4.614792            0.495343       0.469411       10.212912   \n",
       "min         6.000000            0.000000       0.000000        1.000000   \n",
       "25%         9.710000            0.000000       0.000000       10.000000   \n",
       "50%        13.600000            1.000000       0.000000       20.000000   \n",
       "75%        17.700000            1.000000       1.000000       28.000000   \n",
       "max        21.900000            1.000000       1.000000       36.000000   \n",
       "\n",
       "          store_sqft     coffee_bar    video_store      salad_bar  \\\n",
       "count  360336.000000  360336.000000  360336.000000  360336.000000   \n",
       "mean    28180.333442       0.564839       0.277394       0.504807   \n",
       "std      5968.874074       0.495779       0.447713       0.499978   \n",
       "min     20319.000000       0.000000       0.000000       0.000000   \n",
       "25%     23593.000000       0.000000       0.000000       0.000000   \n",
       "50%     27694.000000       1.000000       0.000000       1.000000   \n",
       "75%     33858.000000       1.000000       1.000000       1.000000   \n",
       "max     39696.000000       1.000000       1.000000       1.000000   \n",
       "\n",
       "       prepared_food        florist           cost  \n",
       "count  360336.000000  360336.000000  360336.000000  \n",
       "mean        0.504832       0.503191      99.614729  \n",
       "std         0.499977       0.499991      29.939435  \n",
       "min         0.000000       0.000000      50.790000  \n",
       "25%         0.000000       0.000000      70.320000  \n",
       "50%         1.000000       1.000000      98.810000  \n",
       "75%         1.000000       1.000000     126.620000  \n",
       "max         1.000000       1.000000     149.750000  "
      ]
     },
     "execution_count": 131,
     "metadata": {},
     "output_type": "execute_result"
    }
   ],
   "source": [
    "train_data.describe()"
   ]
  },
  {
   "cell_type": "code",
   "execution_count": 132,
   "metadata": {},
   "outputs": [
    {
     "data": {
      "text/plain": [
       "id                            0\n",
       "store_sales(in millions)      0\n",
       "unit_sales(in millions)       0\n",
       "total_children                0\n",
       "num_children_at_home          0\n",
       "avg_cars_at home(approx).1    0\n",
       "gross_weight                  0\n",
       "recyclable_package            0\n",
       "low_fat                       0\n",
       "units_per_case                0\n",
       "store_sqft                    0\n",
       "coffee_bar                    0\n",
       "video_store                   0\n",
       "salad_bar                     0\n",
       "prepared_food                 0\n",
       "florist                       0\n",
       "cost                          0\n",
       "dtype: int64"
      ]
     },
     "execution_count": 132,
     "metadata": {},
     "output_type": "execute_result"
    }
   ],
   "source": [
    "train_data.isnull().sum()"
   ]
  },
  {
   "cell_type": "code",
   "execution_count": 133,
   "metadata": {},
   "outputs": [
    {
     "data": {
      "text/plain": [
       "id                            0\n",
       "store_sales(in millions)      0\n",
       "unit_sales(in millions)       0\n",
       "total_children                0\n",
       "num_children_at_home          0\n",
       "avg_cars_at home(approx).1    0\n",
       "gross_weight                  0\n",
       "recyclable_package            0\n",
       "low_fat                       0\n",
       "units_per_case                0\n",
       "store_sqft                    0\n",
       "coffee_bar                    0\n",
       "video_store                   0\n",
       "salad_bar                     0\n",
       "prepared_food                 0\n",
       "florist                       0\n",
       "dtype: int64"
      ]
     },
     "execution_count": 133,
     "metadata": {},
     "output_type": "execute_result"
    }
   ],
   "source": [
    "test_data.isnull().sum()"
   ]
  },
  {
   "cell_type": "markdown",
   "metadata": {},
   "source": [
    "No missing values exist"
   ]
  },
  {
   "cell_type": "code",
   "execution_count": 134,
   "metadata": {},
   "outputs": [
    {
     "data": {
      "text/plain": [
       "<AxesSubplot:>"
      ]
     },
     "execution_count": 134,
     "metadata": {},
     "output_type": "execute_result"
    },
    {
     "data": {
      "image/png": "[encoded data removed]",
      "text/plain": [
       "<Figure size 1296x432 with 2 Axes>"
      ]
     },
     "metadata": {
      "needs_background": "light"
     },
     "output_type": "display_data"
    }
   ],
   "source": [
    "# Correlation matrix\n",
    "correlation_matrix = train_data.corr()\n",
    "plt.figure(figsize=(18, 6))\n",
    "mask = np.triu(np.ones_like(correlation_matrix, dtype=bool))\n",
    "sns.heatmap(correlation_matrix, annot=True, mask=mask,\n",
    "            cmap='coolwarm', vmin=-1, vmax=1)"
   ]
  },
  {
   "cell_type": "markdown",
   "metadata": {},
   "source": [
    "`salad_bar` and `prepared_food` has value 1 in correlation matrix, so we will drop one of them."
   ]
  },
  {
   "cell_type": "code",
   "execution_count": 135,
   "metadata": {},
   "outputs": [],
   "source": [
    "# Drop columns\n",
    "X = train_data.drop(['id', 'prepared_food', 'cost',], axis=1)\n",
    "y = train_data['cost']\n",
    "X_test = test_data.drop(['id', 'prepared_food'], axis=1)\n"
   ]
  },
  {
   "cell_type": "code",
   "execution_count": 136,
   "metadata": {},
   "outputs": [
    {
     "data": {
      "text/plain": [
       "<AxesSubplot:>"
      ]
     },
     "execution_count": 136,
     "metadata": {},
     "output_type": "execute_result"
    },
    {
     "data": {
      "image/png": "[encoded data removed]",
      "text/plain": [
       "<Figure size 1296x432 with 1 Axes>"
      ]
     },
     "metadata": {
      "needs_background": "light"
     },
     "output_type": "display_data"
    }
   ],
   "source": [
    "mi = pd.Series(mutual_info_regression(X, y), index=X.columns)\n",
    "mi = mi.sort_values(ascending=False)\n",
    "mi.plot.bar(figsize=(18, 6))"
   ]
  },
  {
   "cell_type": "markdown",
   "metadata": {},
   "source": [
    "`gross_weight`, `units_per_case`, `low_fat`, and `recyclable_package` has least correlation with `cost` so we will drop them."
   ]
  },
  {
   "cell_type": "code",
   "execution_count": 137,
   "metadata": {},
   "outputs": [],
   "source": [
    "# Drop columns\n",
    "X = X.drop(['gross_weight', 'units_per_case', 'low_fat', 'recyclable_package'], axis=1)\n",
    "X_test = X_test.drop(['gross_weight', 'units_per_case', 'low_fat', 'recyclable_package'], axis=1)"
   ]
  },
  {
   "cell_type": "code",
   "execution_count": 138,
   "metadata": {},
   "outputs": [],
   "source": [
    "X['store_sqft'] = X['store_sqft'].astype('category')\n",
    "X_test['store_sqft'] = X_test['store_sqft'].astype('category')"
   ]
  },
  {
   "cell_type": "code",
   "execution_count": 139,
   "metadata": {},
   "outputs": [],
   "source": [
    "y_log = np.log1p(y)"
   ]
  },
  {
   "cell_type": "code",
   "execution_count": 140,
   "metadata": {},
   "outputs": [],
   "source": [
    "# Feature Scaling\n",
    "scaler = MinMaxScaler()\n",
    "X_scaled = scaler.fit_transform(X)\n",
    "X_test_scaled = scaler.transform(X_test)"
   ]
  },
  {
   "cell_type": "code",
   "execution_count": 141,
   "metadata": {},
   "outputs": [],
   "source": [
    "# Split data\n",
    "X_train, X_val, y_train, y_val = train_test_split(\n",
    "    X_scaled, y_log, test_size=0.2, random_state=42)"
   ]
  },
  {
   "cell_type": "markdown",
   "metadata": {},
   "source": [
    "# `XGBRegressor` model"
   ]
  },
  {
   "cell_type": "code",
   "execution_count": 142,
   "metadata": {},
   "outputs": [],
   "source": [
    "xgb_model = XGBRegressor(\n",
    "    objective='reg:squarederror',\n",
    "    tree_method='gpu_hist',\n",
    "    gpu_id=0,\n",
    "    subsample=0.8,\n",
    "    n_estimators=600,\n",
    "    min_child_weight=2,\n",
    "    max_depth=9,\n",
    "    learning_rate=0.01,\n",
    "    gaxgb_modelmma=0.1,\n",
    "    colsample_bytree=1\n",
    ")"
   ]
  },
  {
   "cell_type": "code",
   "execution_count": 143,
   "metadata": {},
   "outputs": [
    {
     "name": "stderr",
     "output_type": "stream",
     "text": [
      "[Parallel(n_jobs=1)]: Using backend SequentialBackend with 1 concurrent workers.\n"
     ]
    },
    {
     "name": "stdout",
     "output_type": "stream",
     "text": [
      "[CV] END ............................... score: (test=-0.295) total time=  28.0s\n"
     ]
    },
    {
     "name": "stderr",
     "output_type": "stream",
     "text": [
      "[Parallel(n_jobs=1)]: Done   1 out of   1 | elapsed:   28.1s remaining:    0.0s\n"
     ]
    },
    {
     "name": "stdout",
     "output_type": "stream",
     "text": [
      "[CV] END ............................... score: (test=-0.296) total time=  27.3s\n"
     ]
    },
    {
     "name": "stderr",
     "output_type": "stream",
     "text": [
      "[Parallel(n_jobs=1)]: Done   2 out of   2 | elapsed:   55.5s remaining:    0.0s\n"
     ]
    },
    {
     "name": "stdout",
     "output_type": "stream",
     "text": [
      "[CV] END ............................... score: (test=-0.296) total time=  27.0s\n",
      "[CV] END ............................... score: (test=-0.297) total time=  26.3s\n",
      "[CV] END ............................... score: (test=-0.296) total time=  26.0s\n"
     ]
    },
    {
     "name": "stderr",
     "output_type": "stream",
     "text": [
      "[Parallel(n_jobs=1)]: Done   5 out of   5 | elapsed:  2.3min finished\n"
     ]
    },
    {
     "data": {
      "text/plain": [
       "0.2958134197870238"
      ]
     },
     "execution_count": 143,
     "metadata": {},
     "output_type": "execute_result"
    }
   ],
   "source": [
    "abs(cross_val_score(xgb_model, X_scaled, y_log,\n",
    "    scoring='neg_root_mean_squared_error', cv=5, verbose=3).mean())"
   ]
  },
  {
   "cell_type": "code",
   "execution_count": 144,
   "metadata": {},
   "outputs": [
    {
     "name": "stdout",
     "output_type": "stream",
     "text": [
      "0.2959044134661551\n"
     ]
    }
   ],
   "source": [
    "# predict and generate submission file for xgb\n",
    "xgb_model.fit(X_train, y_train)\n",
    "y_pred = xgb_model.predict(X_val)\n",
    "get_rmsle_score(y_pred, y_val)\n",
    "\n",
    "y_test_pred = xgb_model.predict(X_test_scaled)\n",
    "create_csv(y_test_pred, 'xgb')"
   ]
  },
  {
   "cell_type": "markdown",
   "metadata": {},
   "source": [
    "# `CatboostRegressor` model"
   ]
  },
  {
   "cell_type": "code",
   "execution_count": 145,
   "metadata": {},
   "outputs": [],
   "source": [
    "params = {\n",
    "    'subsample': 0.9,\n",
    "    'min_child_samples': 1,\n",
    "    'learning_rate': 0.1,\n",
    "    'l2_leaf_reg': 3,\n",
    "    'iterations': 200,\n",
    "    'depth': 10,\n",
    "    'colsample_bylevel': 1.0,\n",
    "    'verbose': 0,\n",
    "}\n",
    "\n",
    "catboost_model = CatBoostRegressor(\n",
    "    **params\n",
    ")"
   ]
  },
  {
   "cell_type": "code",
   "execution_count": 146,
   "metadata": {},
   "outputs": [
    {
     "name": "stderr",
     "output_type": "stream",
     "text": [
      "[Parallel(n_jobs=1)]: Using backend SequentialBackend with 1 concurrent workers.\n"
     ]
    },
    {
     "name": "stdout",
     "output_type": "stream",
     "text": [
      "[CV] END ............................... score: (test=-0.295) total time=  11.2s\n"
     ]
    },
    {
     "name": "stderr",
     "output_type": "stream",
     "text": [
      "[Parallel(n_jobs=1)]: Done   1 out of   1 | elapsed:   11.2s remaining:    0.0s\n"
     ]
    },
    {
     "name": "stdout",
     "output_type": "stream",
     "text": [
      "[CV] END ............................... score: (test=-0.296) total time=  11.7s\n"
     ]
    },
    {
     "name": "stderr",
     "output_type": "stream",
     "text": [
      "[Parallel(n_jobs=1)]: Done   2 out of   2 | elapsed:   23.0s remaining:    0.0s\n"
     ]
    },
    {
     "name": "stdout",
     "output_type": "stream",
     "text": [
      "[CV] END ............................... score: (test=-0.295) total time=  14.4s\n",
      "[CV] END ............................... score: (test=-0.296) total time=  13.9s\n",
      "[CV] END ............................... score: (test=-0.296) total time=  13.1s\n"
     ]
    },
    {
     "name": "stderr",
     "output_type": "stream",
     "text": [
      "[Parallel(n_jobs=1)]: Done   5 out of   5 | elapsed:  1.1min finished\n"
     ]
    },
    {
     "data": {
      "text/plain": [
       "0.2954579102303618"
      ]
     },
     "execution_count": 146,
     "metadata": {},
     "output_type": "execute_result"
    }
   ],
   "source": [
    "abs(cross_val_score(catboost_model, X_scaled, y_log,\n",
    "    scoring='neg_root_mean_squared_error', cv=5, verbose=3).mean())"
   ]
  },
  {
   "cell_type": "code",
   "execution_count": 147,
   "metadata": {},
   "outputs": [
    {
     "name": "stdout",
     "output_type": "stream",
     "text": [
      "0.2957510326860688\n"
     ]
    }
   ],
   "source": [
    "# predict and generate submission file for catboost\n",
    "catboost_model.fit(X_train, y_train)\n",
    "y_pred = catboost_model.predict(X_val)\n",
    "get_rmsle_score(y_pred, y_val)\n",
    "\n",
    "y_test_pred = catboost_model.predict(X_test_scaled)\n",
    "create_csv(y_test_pred, 'catboost')"
   ]
  },
  {
   "cell_type": "markdown",
   "metadata": {},
   "source": [
    "# `LGBMRegressor` model"
   ]
  },
  {
   "cell_type": "code",
   "execution_count": 156,
   "metadata": {},
   "outputs": [],
   "source": [
    "lgb_params = {\n",
    "    'learning_rate': 0.01,\n",
    "    'max_depth': -1,\n",
    "    'num_leaves': 64,\n",
    "    'min_child_samples': 20,\n",
    "    'random_state': 42,\n",
    "    'lambda_l1': 0.005,\n",
    "    'num_boost_round': 10000,\n",
    "}\n",
    "\n",
    "lgb_model = lgb.LGBMRegressor(**lgb_params)"
   ]
  },
  {
   "cell_type": "code",
   "execution_count": 157,
   "metadata": {},
   "outputs": [
    {
     "name": "stderr",
     "output_type": "stream",
     "text": [
      "[Parallel(n_jobs=1)]: Using backend SequentialBackend with 1 concurrent workers.\n"
     ]
    },
    {
     "name": "stdout",
     "output_type": "stream",
     "text": [
      "[LightGBM] [Warning] lambda_l1 is set=0.005, reg_alpha=0.0 will be ignored. Current value: lambda_l1=0.005\n",
      "[LightGBM] [Warning] num_iterations is set=10000, num_boost_round=10000 will be ignored. Current value: num_iterations=10000\n",
      "[LightGBM] [Warning] lambda_l1 is set=0.005, reg_alpha=0.0 will be ignored. Current value: lambda_l1=0.005\n",
      "[LightGBM] [Info] Auto-choosing row-wise multi-threading, the overhead of testing was 0.010243 seconds.\n",
      "You can set `force_row_wise=true` to remove the overhead.\n",
      "And if memory is not enough, you can set `force_col_wise=true`.\n",
      "[LightGBM] [Info] Total Bins 306\n",
      "[LightGBM] [Info] Number of data points in the train set: 288268, number of used features: 10\n",
      "[LightGBM] [Info] Start training from score 4.563347\n",
      "[LightGBM] [Warning] lambda_l1 is set=0.005, reg_alpha=0.0 will be ignored. Current value: lambda_l1=0.005\n",
      "[CV] END ............................... score: (test=-0.295) total time= 1.9min\n",
      "[LightGBM] [Warning] lambda_l1 is set=0.005, reg_alpha=0.0 will be ignored. Current value: lambda_l1=0.005\n",
      "[LightGBM] [Warning] num_iterations is set=10000, num_boost_round=10000 will be ignored. Current value: num_iterations=10000\n",
      "[LightGBM] [Warning] lambda_l1 is set=0.005, reg_alpha=0.0 will be ignored. Current value: lambda_l1=0.005\n",
      "[LightGBM] [Info] Auto-choosing row-wise multi-threading, the overhead of testing was 0.010697 seconds.\n",
      "You can set `force_row_wise=true` to remove the overhead.\n",
      "And if memory is not enough, you can set `force_col_wise=true`.\n",
      "[LightGBM] [Info] Total Bins 306\n",
      "[LightGBM] [Info] Number of data points in the train set: 288269, number of used features: 10\n",
      "[LightGBM] [Info] Start training from score 4.563211\n"
     ]
    },
    {
     "name": "stderr",
     "output_type": "stream",
     "text": [
      "[Parallel(n_jobs=1)]: Done   1 out of   1 | elapsed:  1.9min remaining:    0.0s\n"
     ]
    },
    {
     "name": "stdout",
     "output_type": "stream",
     "text": [
      "[LightGBM] [Warning] lambda_l1 is set=0.005, reg_alpha=0.0 will be ignored. Current value: lambda_l1=0.005\n",
      "[CV] END ............................... score: (test=-0.297) total time= 2.0min\n",
      "[LightGBM] [Warning] lambda_l1 is set=0.005, reg_alpha=0.0 will be ignored. Current value: lambda_l1=0.005\n",
      "[LightGBM] [Warning] num_iterations is set=10000, num_boost_round=10000 will be ignored. Current value: num_iterations=10000\n"
     ]
    },
    {
     "name": "stderr",
     "output_type": "stream",
     "text": [
      "[Parallel(n_jobs=1)]: Done   2 out of   2 | elapsed:  3.9min remaining:    0.0s\n"
     ]
    },
    {
     "name": "stdout",
     "output_type": "stream",
     "text": [
      "[LightGBM] [Warning] lambda_l1 is set=0.005, reg_alpha=0.0 will be ignored. Current value: lambda_l1=0.005\n",
      "[LightGBM] [Info] Auto-choosing row-wise multi-threading, the overhead of testing was 0.015860 seconds.\n",
      "You can set `force_row_wise=true` to remove the overhead.\n",
      "And if memory is not enough, you can set `force_col_wise=true`.\n",
      "[LightGBM] [Info] Total Bins 306\n",
      "[LightGBM] [Info] Number of data points in the train set: 288269, number of used features: 10\n",
      "[LightGBM] [Info] Start training from score 4.563312\n",
      "[LightGBM] [Warning] lambda_l1 is set=0.005, reg_alpha=0.0 will be ignored. Current value: lambda_l1=0.005\n",
      "[CV] END ............................... score: (test=-0.296) total time= 1.9min\n",
      "[LightGBM] [Warning] lambda_l1 is set=0.005, reg_alpha=0.0 will be ignored. Current value: lambda_l1=0.005\n",
      "[LightGBM] [Warning] num_iterations is set=10000, num_boost_round=10000 will be ignored. Current value: num_iterations=10000\n",
      "[LightGBM] [Warning] lambda_l1 is set=0.005, reg_alpha=0.0 will be ignored. Current value: lambda_l1=0.005\n",
      "[LightGBM] [Info] Auto-choosing row-wise multi-threading, the overhead of testing was 0.013385 seconds.\n",
      "You can set `force_row_wise=true` to remove the overhead.\n",
      "And if memory is not enough, you can set `force_col_wise=true`.\n",
      "[LightGBM] [Info] Total Bins 306\n",
      "[LightGBM] [Info] Number of data points in the train set: 288269, number of used features: 10\n",
      "[LightGBM] [Info] Start training from score 4.563365\n",
      "[LightGBM] [Warning] lambda_l1 is set=0.005, reg_alpha=0.0 will be ignored. Current value: lambda_l1=0.005\n",
      "[CV] END ............................... score: (test=-0.297) total time= 1.9min\n",
      "[LightGBM] [Warning] lambda_l1 is set=0.005, reg_alpha=0.0 will be ignored. Current value: lambda_l1=0.005\n",
      "[LightGBM] [Warning] num_iterations is set=10000, num_boost_round=10000 will be ignored. Current value: num_iterations=10000\n",
      "[LightGBM] [Warning] lambda_l1 is set=0.005, reg_alpha=0.0 will be ignored. Current value: lambda_l1=0.005\n",
      "[LightGBM] [Info] Auto-choosing row-wise multi-threading, the overhead of testing was 0.010900 seconds.\n",
      "You can set `force_row_wise=true` to remove the overhead.\n",
      "And if memory is not enough, you can set `force_col_wise=true`.\n",
      "[LightGBM] [Info] Total Bins 306\n",
      "[LightGBM] [Info] Number of data points in the train set: 288269, number of used features: 10\n",
      "[LightGBM] [Info] Start training from score 4.563505\n",
      "[LightGBM] [Warning] lambda_l1 is set=0.005, reg_alpha=0.0 will be ignored. Current value: lambda_l1=0.005\n",
      "[CV] END ............................... score: (test=-0.296) total time= 1.8min\n"
     ]
    },
    {
     "name": "stderr",
     "output_type": "stream",
     "text": [
      "[Parallel(n_jobs=1)]: Done   5 out of   5 | elapsed:  9.5min finished\n"
     ]
    },
    {
     "data": {
      "text/plain": [
       "0.29623719973411355"
      ]
     },
     "execution_count": 157,
     "metadata": {},
     "output_type": "execute_result"
    }
   ],
   "source": [
    "abs(cross_val_score(lgb_model, X_scaled, y_log,\n",
    "    scoring='neg_root_mean_squared_error', cv=5, verbose=3).mean())"
   ]
  },
  {
   "cell_type": "code",
   "execution_count": 81,
   "metadata": {},
   "outputs": [
    {
     "name": "stdout",
     "output_type": "stream",
     "text": [
      "[LightGBM] [Warning] lambda_l1 is set=0.005, reg_alpha=0.0 will be ignored. Current value: lambda_l1=0.005\n",
      "[LightGBM] [Warning] num_iterations is set=10000, num_boost_round=10000 will be ignored. Current value: num_iterations=10000\n",
      "[LightGBM] [Warning] lambda_l1 is set=0.005, reg_alpha=0.0 will be ignored. Current value: lambda_l1=0.005\n",
      "[LightGBM] [Info] Auto-choosing row-wise multi-threading, the overhead of testing was 0.016522 seconds.\n",
      "You can set `force_row_wise=true` to remove the overhead.\n",
      "And if memory is not enough, you can set `force_col_wise=true`.\n",
      "[LightGBM] [Info] Total Bins 310\n",
      "[LightGBM] [Info] Number of data points in the train set: 288268, number of used features: 12\n",
      "[LightGBM] [Info] Start training from score 4.563652\n",
      "[LightGBM] [Warning] lambda_l1 is set=0.005, reg_alpha=0.0 will be ignored. Current value: lambda_l1=0.005\n",
      "0.2964333695374831\n",
      "[LightGBM] [Warning] lambda_l1 is set=0.005, reg_alpha=0.0 will be ignored. Current value: lambda_l1=0.005\n"
     ]
    }
   ],
   "source": [
    "# predict and generate submission file for lgb\n",
    "lgb_model.fit(X_train, y_train)\n",
    "y_pred = lgb_model.predict(X_val)\n",
    "get_rmsle_score(y_pred, y_val)\n",
    "\n",
    "y_test_pred = lgb_model.predict(X_test_scaled)\n",
    "create_csv(y_test_pred, 'lgb')"
   ]
  },
  {
   "cell_type": "markdown",
   "metadata": {},
   "source": [
    "# `(xgb + catboost)` model"
   ]
  },
  {
   "cell_type": "code",
   "execution_count": 154,
   "metadata": {},
   "outputs": [],
   "source": [
    "xgb_model = XGBRegressor(\n",
    "    objective='reg:squarederror',\n",
    "    tree_method='gpu_hist',\n",
    "    gpu_id=0,\n",
    "    subsample=0.8,\n",
    "    n_estimators=600,\n",
    "    min_child_weight=2,\n",
    "    max_depth=9,\n",
    "    learning_rate=0.01,\n",
    "    gaxgb_modelmma=0.1,\n",
    "    colsample_bytree=1\n",
    ")\n",
    "\n",
    "catboost_params = {\n",
    "    'subsample': 0.9,\n",
    "    'min_child_samples': 1,\n",
    "    'learning_rate': 0.1,\n",
    "    'l2_leaf_reg': 3,\n",
    "    'iterations': 200,\n",
    "    'depth': 10,\n",
    "    'colsample_bylevel': 1.0,\n",
    "    'verbose': 0,\n",
    "}\n",
    "\n",
    "catboost_model = CatBoostRegressor(\n",
    "    **catboost_params\n",
    ")\n",
    "\n",
    "model_stack_xgb_cb = StackingRegressor([\n",
    "    ('xgb', xgb_model),\n",
    "    ('catboost', catboost_model),\n",
    "])\n"
   ]
  },
  {
   "cell_type": "code",
   "execution_count": 155,
   "metadata": {},
   "outputs": [
    {
     "name": "stdout",
     "output_type": "stream",
     "text": [
      "0.29541064238674614\n"
     ]
    }
   ],
   "source": [
    "# predict and generate submission file for stacking (xgb + catboost)\n",
    "model_stack_xgb_cb.fit(X_train, y_train)\n",
    "y_pred = model_stack_xgb_cb.predict(X_val)\n",
    "get_rmsle_score(y_pred, y_val)\n",
    "\n",
    "y_test_pred = model_stack_xgb_cb.predict(X_test_scaled)\n",
    "create_csv(y_test_pred, 'stack_xgb_cb')"
   ]
  },
  {
   "cell_type": "markdown",
   "metadata": {},
   "source": [
    "# `(lgb + catboost)` model"
   ]
  },
  {
   "cell_type": "code",
   "execution_count": 152,
   "metadata": {},
   "outputs": [],
   "source": [
    "lgb_params = {\n",
    "    'learning_rate': 0.01,\n",
    "    'max_depth': -1,\n",
    "    'num_leaves': 64,\n",
    "    'min_child_samples': 20,\n",
    "    'random_state': 42,\n",
    "    'lambda_l1': 0.005,\n",
    "    'num_boost_round': 10000,\n",
    "}\n",
    "\n",
    "lgb_model = lgb.LGBMRegressor(**lgb_params)\n",
    "\n",
    "catboost_params = {\n",
    "    'subsample': 0.9,\n",
    "    'min_child_samples': 1,\n",
    "    'learning_rate': 0.1,\n",
    "    'l2_leaf_reg': 3,\n",
    "    'iterations': 200,\n",
    "    'depth': 10,\n",
    "    'colsample_bylevel': 1.0,\n",
    "    'verbose': 0,\n",
    "}\n",
    "\n",
    "catboost_model = CatBoostRegressor(\n",
    "    **catboost_params\n",
    ")\n",
    "\n",
    "model_stack_lgb_cb = StackingRegressor([\n",
    "    ('lgb', lgb_model),\n",
    "    ('catboost', catboost_model),\n",
    "])\n"
   ]
  },
  {
   "cell_type": "code",
   "execution_count": 153,
   "metadata": {},
   "outputs": [
    {
     "name": "stdout",
     "output_type": "stream",
     "text": [
      "[LightGBM] [Warning] lambda_l1 is set=0.005, reg_alpha=0.0 will be ignored. Current value: lambda_l1=0.005\n",
      "[LightGBM] [Warning] num_iterations is set=10000, num_boost_round=10000 will be ignored. Current value: num_iterations=10000\n",
      "[LightGBM] [Warning] lambda_l1 is set=0.005, reg_alpha=0.0 will be ignored. Current value: lambda_l1=0.005\n",
      "[LightGBM] [Info] Auto-choosing row-wise multi-threading, the overhead of testing was 0.010460 seconds.\n",
      "You can set `force_row_wise=true` to remove the overhead.\n",
      "And if memory is not enough, you can set `force_col_wise=true`.\n",
      "[LightGBM] [Info] Total Bins 306\n",
      "[LightGBM] [Info] Number of data points in the train set: 288268, number of used features: 10\n",
      "[LightGBM] [Info] Start training from score 4.563652\n",
      "[LightGBM] [Warning] lambda_l1 is set=0.005, reg_alpha=0.0 will be ignored. Current value: lambda_l1=0.005\n",
      "[LightGBM] [Warning] num_iterations is set=10000, num_boost_round=10000 will be ignored. Current value: num_iterations=10000\n",
      "[LightGBM] [Warning] lambda_l1 is set=0.005, reg_alpha=0.0 will be ignored. Current value: lambda_l1=0.005\n",
      "[LightGBM] [Info] Auto-choosing row-wise multi-threading, the overhead of testing was 0.009408 seconds.\n",
      "You can set `force_row_wise=true` to remove the overhead.\n",
      "And if memory is not enough, you can set `force_col_wise=true`.\n",
      "[LightGBM] [Info] Total Bins 306\n",
      "[LightGBM] [Info] Number of data points in the train set: 230614, number of used features: 10\n",
      "[LightGBM] [Info] Start training from score 4.563417\n",
      "[LightGBM] [Warning] lambda_l1 is set=0.005, reg_alpha=0.0 will be ignored. Current value: lambda_l1=0.005\n",
      "[LightGBM] [Warning] lambda_l1 is set=0.005, reg_alpha=0.0 will be ignored. Current value: lambda_l1=0.005\n",
      "[LightGBM] [Warning] num_iterations is set=10000, num_boost_round=10000 will be ignored. Current value: num_iterations=10000\n",
      "[LightGBM] [Warning] lambda_l1 is set=0.005, reg_alpha=0.0 will be ignored. Current value: lambda_l1=0.005\n",
      "[LightGBM] [Info] Auto-choosing row-wise multi-threading, the overhead of testing was 0.012018 seconds.\n",
      "You can set `force_row_wise=true` to remove the overhead.\n",
      "And if memory is not enough, you can set `force_col_wise=true`.\n",
      "[LightGBM] [Info] Total Bins 306\n",
      "[LightGBM] [Info] Number of data points in the train set: 230614, number of used features: 10\n",
      "[LightGBM] [Info] Start training from score 4.563643\n",
      "[LightGBM] [Warning] lambda_l1 is set=0.005, reg_alpha=0.0 will be ignored. Current value: lambda_l1=0.005\n",
      "[LightGBM] [Warning] lambda_l1 is set=0.005, reg_alpha=0.0 will be ignored. Current value: lambda_l1=0.005\n",
      "[LightGBM] [Warning] num_iterations is set=10000, num_boost_round=10000 will be ignored. Current value: num_iterations=10000\n",
      "[LightGBM] [Warning] lambda_l1 is set=0.005, reg_alpha=0.0 will be ignored. Current value: lambda_l1=0.005\n",
      "[LightGBM] [Info] Auto-choosing row-wise multi-threading, the overhead of testing was 0.010614 seconds.\n",
      "You can set `force_row_wise=true` to remove the overhead.\n",
      "And if memory is not enough, you can set `force_col_wise=true`.\n",
      "[LightGBM] [Info] Total Bins 306\n",
      "[LightGBM] [Info] Number of data points in the train set: 230614, number of used features: 10\n",
      "[LightGBM] [Info] Start training from score 4.564226\n",
      "[LightGBM] [Warning] lambda_l1 is set=0.005, reg_alpha=0.0 will be ignored. Current value: lambda_l1=0.005\n",
      "[LightGBM] [Warning] lambda_l1 is set=0.005, reg_alpha=0.0 will be ignored. Current value: lambda_l1=0.005\n",
      "[LightGBM] [Warning] num_iterations is set=10000, num_boost_round=10000 will be ignored. Current value: num_iterations=10000\n",
      "[LightGBM] [Warning] lambda_l1 is set=0.005, reg_alpha=0.0 will be ignored. Current value: lambda_l1=0.005\n",
      "[LightGBM] [Info] Auto-choosing row-wise multi-threading, the overhead of testing was 0.009808 seconds.\n",
      "You can set `force_row_wise=true` to remove the overhead.\n",
      "And if memory is not enough, you can set `force_col_wise=true`.\n",
      "[LightGBM] [Info] Total Bins 306\n",
      "[LightGBM] [Info] Number of data points in the train set: 230615, number of used features: 10\n",
      "[LightGBM] [Info] Start training from score 4.563572\n",
      "[LightGBM] [Warning] lambda_l1 is set=0.005, reg_alpha=0.0 will be ignored. Current value: lambda_l1=0.005\n",
      "[LightGBM] [Warning] lambda_l1 is set=0.005, reg_alpha=0.0 will be ignored. Current value: lambda_l1=0.005\n",
      "[LightGBM] [Warning] num_iterations is set=10000, num_boost_round=10000 will be ignored. Current value: num_iterations=10000\n",
      "[LightGBM] [Warning] lambda_l1 is set=0.005, reg_alpha=0.0 will be ignored. Current value: lambda_l1=0.005\n",
      "[LightGBM] [Info] Auto-choosing row-wise multi-threading, the overhead of testing was 0.009484 seconds.\n",
      "You can set `force_row_wise=true` to remove the overhead.\n",
      "And if memory is not enough, you can set `force_col_wise=true`.\n",
      "[LightGBM] [Info] Total Bins 306\n",
      "[LightGBM] [Info] Number of data points in the train set: 230615, number of used features: 10\n",
      "[LightGBM] [Info] Start training from score 4.563404\n",
      "[LightGBM] [Warning] lambda_l1 is set=0.005, reg_alpha=0.0 will be ignored. Current value: lambda_l1=0.005\n",
      "[LightGBM] [Warning] lambda_l1 is set=0.005, reg_alpha=0.0 will be ignored. Current value: lambda_l1=0.005\n",
      "0.2952643289605691\n",
      "[LightGBM] [Warning] lambda_l1 is set=0.005, reg_alpha=0.0 will be ignored. Current value: lambda_l1=0.005\n"
     ]
    }
   ],
   "source": [
    "# predict and generate submission file for stacking (lgb + catboost)\n",
    "model_stack_lgb_cb.fit(X_train, y_train)\n",
    "y_pred = model_stack_lgb_cb.predict(X_val)\n",
    "get_rmsle_score(y_pred, y_val)\n",
    "\n",
    "y_test_pred = model_stack_lgb_cb.predict(X_test_scaled)\n",
    "create_csv(y_test_pred, 'stack_lgb_cb')"
   ]
  },
  {
   "cell_type": "markdown",
   "metadata": {},
   "source": [
    "# `(xgb + lgb)` model"
   ]
  },
  {
   "cell_type": "code",
   "execution_count": 150,
   "metadata": {},
   "outputs": [],
   "source": [
    "lgb_params = {\n",
    "    'learning_rate': 0.01,\n",
    "    'max_depth': -1,\n",
    "    'num_leaves': 64,\n",
    "    'min_child_samples': 20,\n",
    "    'random_state': 42,\n",
    "    'lambda_l1': 0.005,\n",
    "    'num_boost_round': 10000,\n",
    "}\n",
    "\n",
    "lgb_model = lgb.LGBMRegressor(**lgb_params)\n",
    "\n",
    "xgb_model = XGBRegressor(\n",
    "    objective='reg:squarederror',\n",
    "    tree_method='gpu_hist',\n",
    "    gpu_id=0,\n",
    "    subsample=0.8,\n",
    "    n_estimators=600,\n",
    "    min_child_weight=2,\n",
    "    max_depth=9,\n",
    "    learning_rate=0.01,\n",
    "    gaxgb_modelmma=0.1,\n",
    "    colsample_bytree=1\n",
    ")\n",
    "\n",
    "model_stack_lgb_xgb = StackingRegressor([\n",
    "    ('lgb', lgb_model),\n",
    "    ('xgb', xgb_model),\n",
    "])"
   ]
  },
  {
   "cell_type": "code",
   "execution_count": 151,
   "metadata": {},
   "outputs": [
    {
     "name": "stdout",
     "output_type": "stream",
     "text": [
      "[LightGBM] [Warning] lambda_l1 is set=0.005, reg_alpha=0.0 will be ignored. Current value: lambda_l1=0.005\n",
      "[LightGBM] [Warning] num_iterations is set=10000, num_boost_round=10000 will be ignored. Current value: num_iterations=10000\n",
      "[LightGBM] [Warning] lambda_l1 is set=0.005, reg_alpha=0.0 will be ignored. Current value: lambda_l1=0.005\n",
      "[LightGBM] [Info] Auto-choosing row-wise multi-threading, the overhead of testing was 0.013759 seconds.\n",
      "You can set `force_row_wise=true` to remove the overhead.\n",
      "And if memory is not enough, you can set `force_col_wise=true`.\n",
      "[LightGBM] [Info] Total Bins 306\n",
      "[LightGBM] [Info] Number of data points in the train set: 288268, number of used features: 10\n",
      "[LightGBM] [Info] Start training from score 4.563652\n",
      "[LightGBM] [Warning] lambda_l1 is set=0.005, reg_alpha=0.0 will be ignored. Current value: lambda_l1=0.005\n",
      "[LightGBM] [Warning] num_iterations is set=10000, num_boost_round=10000 will be ignored. Current value: num_iterations=10000\n",
      "[LightGBM] [Warning] lambda_l1 is set=0.005, reg_alpha=0.0 will be ignored. Current value: lambda_l1=0.005\n",
      "[LightGBM] [Info] Auto-choosing col-wise multi-threading, the overhead of testing was 0.055010 seconds.\n",
      "You can set `force_col_wise=true` to remove the overhead.\n",
      "[LightGBM] [Info] Total Bins 306\n",
      "[LightGBM] [Info] Number of data points in the train set: 230614, number of used features: 10\n",
      "[LightGBM] [Info] Start training from score 4.563417\n",
      "[LightGBM] [Warning] lambda_l1 is set=0.005, reg_alpha=0.0 will be ignored. Current value: lambda_l1=0.005\n",
      "[LightGBM] [Warning] lambda_l1 is set=0.005, reg_alpha=0.0 will be ignored. Current value: lambda_l1=0.005\n",
      "[LightGBM] [Warning] num_iterations is set=10000, num_boost_round=10000 will be ignored. Current value: num_iterations=10000\n",
      "[LightGBM] [Warning] lambda_l1 is set=0.005, reg_alpha=0.0 will be ignored. Current value: lambda_l1=0.005\n",
      "[LightGBM] [Info] Auto-choosing col-wise multi-threading, the overhead of testing was 0.033901 seconds.\n",
      "You can set `force_col_wise=true` to remove the overhead.\n",
      "[LightGBM] [Info] Total Bins 306\n",
      "[LightGBM] [Info] Number of data points in the train set: 230614, number of used features: 10\n",
      "[LightGBM] [Info] Start training from score 4.563643\n",
      "[LightGBM] [Warning] lambda_l1 is set=0.005, reg_alpha=0.0 will be ignored. Current value: lambda_l1=0.005\n",
      "[LightGBM] [Warning] lambda_l1 is set=0.005, reg_alpha=0.0 will be ignored. Current value: lambda_l1=0.005\n",
      "[LightGBM] [Warning] num_iterations is set=10000, num_boost_round=10000 will be ignored. Current value: num_iterations=10000\n",
      "[LightGBM] [Warning] lambda_l1 is set=0.005, reg_alpha=0.0 will be ignored. Current value: lambda_l1=0.005\n",
      "[LightGBM] [Info] Auto-choosing row-wise multi-threading, the overhead of testing was 0.009152 seconds.\n",
      "You can set `force_row_wise=true` to remove the overhead.\n",
      "And if memory is not enough, you can set `force_col_wise=true`.\n",
      "[LightGBM] [Info] Total Bins 306\n",
      "[LightGBM] [Info] Number of data points in the train set: 230614, number of used features: 10\n",
      "[LightGBM] [Info] Start training from score 4.564226\n",
      "[LightGBM] [Warning] lambda_l1 is set=0.005, reg_alpha=0.0 will be ignored. Current value: lambda_l1=0.005\n",
      "[LightGBM] [Warning] lambda_l1 is set=0.005, reg_alpha=0.0 will be ignored. Current value: lambda_l1=0.005\n",
      "[LightGBM] [Warning] num_iterations is set=10000, num_boost_round=10000 will be ignored. Current value: num_iterations=10000\n",
      "[LightGBM] [Warning] lambda_l1 is set=0.005, reg_alpha=0.0 will be ignored. Current value: lambda_l1=0.005\n",
      "[LightGBM] [Info] Auto-choosing row-wise multi-threading, the overhead of testing was 0.010095 seconds.\n",
      "You can set `force_row_wise=true` to remove the overhead.\n",
      "And if memory is not enough, you can set `force_col_wise=true`.\n",
      "[LightGBM] [Info] Total Bins 306\n",
      "[LightGBM] [Info] Number of data points in the train set: 230615, number of used features: 10\n",
      "[LightGBM] [Info] Start training from score 4.563572\n",
      "[LightGBM] [Warning] lambda_l1 is set=0.005, reg_alpha=0.0 will be ignored. Current value: lambda_l1=0.005\n",
      "[LightGBM] [Warning] lambda_l1 is set=0.005, reg_alpha=0.0 will be ignored. Current value: lambda_l1=0.005\n",
      "[LightGBM] [Warning] num_iterations is set=10000, num_boost_round=10000 will be ignored. Current value: num_iterations=10000\n",
      "[LightGBM] [Warning] lambda_l1 is set=0.005, reg_alpha=0.0 will be ignored. Current value: lambda_l1=0.005\n",
      "[LightGBM] [Info] Auto-choosing row-wise multi-threading, the overhead of testing was 0.008981 seconds.\n",
      "You can set `force_row_wise=true` to remove the overhead.\n",
      "And if memory is not enough, you can set `force_col_wise=true`.\n",
      "[LightGBM] [Info] Total Bins 306\n",
      "[LightGBM] [Info] Number of data points in the train set: 230615, number of used features: 10\n",
      "[LightGBM] [Info] Start training from score 4.563404\n",
      "[LightGBM] [Warning] lambda_l1 is set=0.005, reg_alpha=0.0 will be ignored. Current value: lambda_l1=0.005\n",
      "[LightGBM] [Warning] lambda_l1 is set=0.005, reg_alpha=0.0 will be ignored. Current value: lambda_l1=0.005\n",
      "0.2954003161396322\n",
      "[LightGBM] [Warning] lambda_l1 is set=0.005, reg_alpha=0.0 will be ignored. Current value: lambda_l1=0.005\n"
     ]
    }
   ],
   "source": [
    "# predict and generate submission file for stacking (lgb + xgb)\n",
    "model_stack_lgb_xgb.fit(X_train, y_train)\n",
    "y_pred = model_stack_lgb_xgb.predict(X_val)\n",
    "get_rmsle_score(y_pred, y_val)\n",
    "\n",
    "y_test_pred = model_stack_lgb_xgb.predict(X_test_scaled)\n",
    "create_csv(y_test_pred, 'stack_lgb_xgb')"
   ]
  },
  {
   "cell_type": "markdown",
   "metadata": {},
   "source": [
    "# `(xgb + cb + lgb)` model"
   ]
  },
  {
   "cell_type": "code",
   "execution_count": 148,
   "metadata": {},
   "outputs": [],
   "source": [
    "xgb_model = XGBRegressor(\n",
    "    objective='reg:squarederror',\n",
    "    tree_method='gpu_hist',\n",
    "    gpu_id=0,\n",
    "    subsample=0.8,\n",
    "    n_estimators=600,\n",
    "    min_child_weight=2,\n",
    "    max_depth=9,\n",
    "    learning_rate=0.01,\n",
    "    gaxgb_modelmma=0.1,\n",
    "    colsample_bytree=1\n",
    ")\n",
    "\n",
    "catboost_params = {\n",
    "    'subsample': 0.9,\n",
    "    'min_child_samples': 1,\n",
    "    'learning_rate': 0.1,\n",
    "    'l2_leaf_reg': 3,\n",
    "    'iterations': 200,\n",
    "    'depth': 10,\n",
    "    'colsample_bylevel': 1.0,\n",
    "    'verbose': 0,\n",
    "}\n",
    "\n",
    "catboost_model = CatBoostRegressor(\n",
    "    **catboost_params\n",
    ")\n",
    "\n",
    "lgb_params = {\n",
    "    'learning_rate': 0.01,\n",
    "    'max_depth': -1,\n",
    "    'num_leaves': 64,\n",
    "    'min_child_samples': 20,\n",
    "    'random_state': 42,\n",
    "    'lambda_l1': 0.005,\n",
    "    'num_boost_round': 10000,\n",
    "}\n",
    "\n",
    "lgb_model = lgb.LGBMRegressor(**lgb_params)\n",
    "\n",
    "model_stack_xgb_cb_lgb = StackingRegressor([\n",
    "    ('xgb', xgb_model),\n",
    "    ('cb', catboost_model),\n",
    "    ('lgb', lgb_model)\n",
    "])"
   ]
  },
  {
   "cell_type": "code",
   "execution_count": 149,
   "metadata": {},
   "outputs": [
    {
     "name": "stdout",
     "output_type": "stream",
     "text": [
      "[LightGBM] [Warning] lambda_l1 is set=0.005, reg_alpha=0.0 will be ignored. Current value: lambda_l1=0.005\n",
      "[LightGBM] [Warning] num_iterations is set=10000, num_boost_round=10000 will be ignored. Current value: num_iterations=10000\n",
      "[LightGBM] [Warning] lambda_l1 is set=0.005, reg_alpha=0.0 will be ignored. Current value: lambda_l1=0.005\n",
      "[LightGBM] [Info] Auto-choosing row-wise multi-threading, the overhead of testing was 0.010933 seconds.\n",
      "You can set `force_row_wise=true` to remove the overhead.\n",
      "And if memory is not enough, you can set `force_col_wise=true`.\n",
      "[LightGBM] [Info] Total Bins 306\n",
      "[LightGBM] [Info] Number of data points in the train set: 288268, number of used features: 10\n",
      "[LightGBM] [Info] Start training from score 4.563652\n",
      "[LightGBM] [Warning] lambda_l1 is set=0.005, reg_alpha=0.0 will be ignored. Current value: lambda_l1=0.005\n",
      "[LightGBM] [Warning] num_iterations is set=10000, num_boost_round=10000 will be ignored. Current value: num_iterations=10000\n",
      "[LightGBM] [Warning] lambda_l1 is set=0.005, reg_alpha=0.0 will be ignored. Current value: lambda_l1=0.005\n",
      "[LightGBM] [Info] Auto-choosing row-wise multi-threading, the overhead of testing was 0.011180 seconds.\n",
      "You can set `force_row_wise=true` to remove the overhead.\n",
      "And if memory is not enough, you can set `force_col_wise=true`.\n",
      "[LightGBM] [Info] Total Bins 306\n",
      "[LightGBM] [Info] Number of data points in the train set: 230614, number of used features: 10\n",
      "[LightGBM] [Info] Start training from score 4.563417\n",
      "[LightGBM] [Warning] lambda_l1 is set=0.005, reg_alpha=0.0 will be ignored. Current value: lambda_l1=0.005\n",
      "[LightGBM] [Warning] lambda_l1 is set=0.005, reg_alpha=0.0 will be ignored. Current value: lambda_l1=0.005\n",
      "[LightGBM] [Warning] num_iterations is set=10000, num_boost_round=10000 will be ignored. Current value: num_iterations=10000\n",
      "[LightGBM] [Warning] lambda_l1 is set=0.005, reg_alpha=0.0 will be ignored. Current value: lambda_l1=0.005\n",
      "[LightGBM] [Info] Auto-choosing row-wise multi-threading, the overhead of testing was 0.008678 seconds.\n",
      "You can set `force_row_wise=true` to remove the overhead.\n",
      "And if memory is not enough, you can set `force_col_wise=true`.\n",
      "[LightGBM] [Info] Total Bins 306\n",
      "[LightGBM] [Info] Number of data points in the train set: 230614, number of used features: 10\n",
      "[LightGBM] [Info] Start training from score 4.563643\n",
      "[LightGBM] [Warning] lambda_l1 is set=0.005, reg_alpha=0.0 will be ignored. Current value: lambda_l1=0.005\n",
      "[LightGBM] [Warning] lambda_l1 is set=0.005, reg_alpha=0.0 will be ignored. Current value: lambda_l1=0.005\n",
      "[LightGBM] [Warning] num_iterations is set=10000, num_boost_round=10000 will be ignored. Current value: num_iterations=10000\n",
      "[LightGBM] [Warning] lambda_l1 is set=0.005, reg_alpha=0.0 will be ignored. Current value: lambda_l1=0.005\n",
      "[LightGBM] [Info] Auto-choosing row-wise multi-threading, the overhead of testing was 0.013453 seconds.\n",
      "You can set `force_row_wise=true` to remove the overhead.\n",
      "And if memory is not enough, you can set `force_col_wise=true`.\n",
      "[LightGBM] [Info] Total Bins 306\n",
      "[LightGBM] [Info] Number of data points in the train set: 230614, number of used features: 10\n",
      "[LightGBM] [Info] Start training from score 4.564226\n",
      "[LightGBM] [Warning] lambda_l1 is set=0.005, reg_alpha=0.0 will be ignored. Current value: lambda_l1=0.005\n",
      "[LightGBM] [Warning] lambda_l1 is set=0.005, reg_alpha=0.0 will be ignored. Current value: lambda_l1=0.005\n",
      "[LightGBM] [Warning] num_iterations is set=10000, num_boost_round=10000 will be ignored. Current value: num_iterations=10000\n",
      "[LightGBM] [Warning] lambda_l1 is set=0.005, reg_alpha=0.0 will be ignored. Current value: lambda_l1=0.005\n",
      "[LightGBM] [Info] Auto-choosing row-wise multi-threading, the overhead of testing was 0.015922 seconds.\n",
      "You can set `force_row_wise=true` to remove the overhead.\n",
      "And if memory is not enough, you can set `force_col_wise=true`.\n",
      "[LightGBM] [Info] Total Bins 306\n",
      "[LightGBM] [Info] Number of data points in the train set: 230615, number of used features: 10\n",
      "[LightGBM] [Info] Start training from score 4.563572\n",
      "[LightGBM] [Warning] lambda_l1 is set=0.005, reg_alpha=0.0 will be ignored. Current value: lambda_l1=0.005\n",
      "[LightGBM] [Warning] lambda_l1 is set=0.005, reg_alpha=0.0 will be ignored. Current value: lambda_l1=0.005\n",
      "[LightGBM] [Warning] num_iterations is set=10000, num_boost_round=10000 will be ignored. Current value: num_iterations=10000\n",
      "[LightGBM] [Warning] lambda_l1 is set=0.005, reg_alpha=0.0 will be ignored. Current value: lambda_l1=0.005\n",
      "[LightGBM] [Info] Auto-choosing row-wise multi-threading, the overhead of testing was 0.011838 seconds.\n",
      "You can set `force_row_wise=true` to remove the overhead.\n",
      "And if memory is not enough, you can set `force_col_wise=true`.\n",
      "[LightGBM] [Info] Total Bins 306\n",
      "[LightGBM] [Info] Number of data points in the train set: 230615, number of used features: 10\n",
      "[LightGBM] [Info] Start training from score 4.563404\n",
      "[LightGBM] [Warning] lambda_l1 is set=0.005, reg_alpha=0.0 will be ignored. Current value: lambda_l1=0.005\n",
      "[LightGBM] [Warning] lambda_l1 is set=0.005, reg_alpha=0.0 will be ignored. Current value: lambda_l1=0.005\n",
      "0.2952308650526259\n",
      "[LightGBM] [Warning] lambda_l1 is set=0.005, reg_alpha=0.0 will be ignored. Current value: lambda_l1=0.005\n"
     ]
    }
   ],
   "source": [
    "# predict and generate submission file for stacking (xgb + catboost + lgb)\n",
    "model_stack_xgb_cb_lgb.fit(X_train, y_train)\n",
    "y_pred = model_stack_xgb_cb_lgb.predict(X_val)\n",
    "get_rmsle_score(y_pred, y_val)\n",
    "\n",
    "y_test_pred = model_stack_xgb_cb_lgb.predict(X_test_scaled)\n",
    "create_csv(y_test_pred, 'stack_xgb_cb_lgb')"
   ]
  }
 ],
 "metadata": {
  "kernelspec": {
   "display_name": "Python 3",
   "language": "python",
   "name": "python3"
  },
  "language_info": {
   "codemirror_mode": {
    "name": "ipython",
    "version": 3
   },
   "file_extension": ".py",
   "mimetype": "text/x-python",
   "name": "python",
   "nbconvert_exporter": "python",
   "pygments_lexer": "ipython3",
   "version": "3.10.1"
  }
 },
 "nbformat": 4,
 "nbformat_minor": 2
}
